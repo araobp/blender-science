{
 "cells": [
  {
   "cell_type": "markdown",
   "id": "f45a188c",
   "metadata": {},
   "source": [
    "   ## Dynamics"
   ]
  },
  {
   "cell_type": "code",
   "execution_count": 4,
   "id": "2487ef58",
   "metadata": {},
   "outputs": [],
   "source": [
    "from IPython.display import Video"
   ]
  },
  {
   "cell_type": "markdown",
   "id": "0a84c282",
   "metadata": {},
   "source": [
    "### Free fall"
   ]
  },
  {
   "cell_type": "code",
   "execution_count": 6,
   "id": "ff08008c",
   "metadata": {},
   "outputs": [
    {
     "data": {
      "text/html": [
       "<video src=\"freefall.m4v\" controls  width=\"854\"  height=\"480\">\n",
       "      Your browser does not support the <code>video</code> element.\n",
       "    </video>"
      ],
      "text/plain": [
       "<IPython.core.display.Video object>"
      ]
     },
     "execution_count": 6,
     "metadata": {},
     "output_type": "execute_result"
    }
   ],
   "source": [
    "Video(\"freefall.m4v\", width=854, height=480)"
   ]
  },
  {
   "cell_type": "markdown",
   "id": "ef1ae566",
   "metadata": {},
   "source": [
    "### Parabolic motion"
   ]
  },
  {
   "cell_type": "code",
   "execution_count": 7,
   "id": "ae0d5387",
   "metadata": {},
   "outputs": [
    {
     "data": {
      "text/html": [
       "<video src=\"parabolic_motion.m4v\" controls  width=\"854\"  height=\"480\">\n",
       "      Your browser does not support the <code>video</code> element.\n",
       "    </video>"
      ],
      "text/plain": [
       "<IPython.core.display.Video object>"
      ]
     },
     "execution_count": 7,
     "metadata": {},
     "output_type": "execute_result"
    }
   ],
   "source": [
    "Video(\"parabolic_motion.m4v\", width=854, height=480)"
   ]
  },
  {
   "cell_type": "code",
   "execution_count": null,
   "id": "5402f3c7",
   "metadata": {},
   "outputs": [],
   "source": []
  }
 ],
 "metadata": {
  "kernelspec": {
   "display_name": "Python 3",
   "language": "python",
   "name": "python3"
  },
  "language_info": {
   "codemirror_mode": {
    "name": "ipython",
    "version": 3
   },
   "file_extension": ".py",
   "mimetype": "text/x-python",
   "name": "python",
   "nbconvert_exporter": "python",
   "pygments_lexer": "ipython3",
   "version": "3.8.8"
  }
 },
 "nbformat": 4,
 "nbformat_minor": 5
}
